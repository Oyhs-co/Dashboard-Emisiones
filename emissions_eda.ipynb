{
 "cells": [
  {
   "cell_type": "markdown",
   "id": "3f631252",
   "metadata": {},
   "source": [
    "# Análisis Exploratorio de Datos de Emisiones\n",
    "\n",
    "Este notebook contiene el análisis exploratorio de datos (EDA) y análisis estadístico de las emisiones, utilizando Polars, NumPy y SciPy."
   ]
  },
  {
   "cell_type": "code",
   "execution_count": null,
   "id": "3a572a14",
   "metadata": {},
   "outputs": [],
   "source": [
    "import polars as pl\n",
    "import numpy as np\n",
    "from scipy import stats\n",
    "\n",
    "# Cargar el DataFrame procesado (asumiendo que data_processing.py lo guarda o lo devuelve)\n",
    "# Para este ejemplo, cargaremos directamente el CSV y aplicaremos el preprocesamiento básico aquí\n",
    "# En un escenario real, se importaría la función process_data y se usaría el DataFrame resultante.\n",
    "\n",
    "def process_data_for_notebook(file_path):\n",
    "    df = pl.read_csv(file_path)\n",
    "    df = df.rename({\n",
    "        'AÑO': 'Anio',\n",
    "        'CLASIFICACION': 'Clasificacion',\n",
    "        'CH4_eq': 'CH4_eq',\n",
    "        'CO2_eq': 'CO2_eq',\n",
    "        'N2O_eq': 'N2O_eq',\n",
    "        'Total_Emisiones': 'Total_Emisiones',\n",
    "        'Emisiones_netas': 'Emisiones_netas'\n",
    "    })\n",
    "    numeric_cols = ['CH4_eq', 'CO2_eq', 'N2O_eq', 'Total_Emisiones', 'Emisiones_netas']\n",
    "    for col in numeric_cols:\n",
    "        if col in df.columns:\n",
    "            df = df.with_columns(pl.col(col).cast(pl.String).str.replace_all(\",\", \".\").cast(pl.Float64))\n",
    "    for col in numeric_cols:\n",
    "        if col in df.columns:\n",
    "            df = df.with_columns(pl.col(col).fill_null(0))\n",
    "    return df\n",
    "\n",
    "file_path = '/home/ubuntu/upload/proyecto2.csv'\n",
    "df = process_data_for_notebook(file_path)\n",
    "\n",
    "print(\"DataFrame cargado y preprocesado:\")\n",
    "print(df.head())"
   ]
  },
  {
   "cell_type": "markdown",
   "id": "6f482874",
   "metadata": {},
   "source": [
    "## Estadísticas Descriptivas\n",
    "\n",
    "Vamos a obtener un resumen estadístico de las columnas numéricas."
   ]
  },
  {
   "cell_type": "code",
   "execution_count": null,
   "id": "4e1c2bdf",
   "metadata": {},
   "outputs": [],
   "source": [
    "print(df.describe())"
   ]
  },
  {
   "cell_type": "markdown",
   "id": "340749eb",
   "metadata": {},
   "source": [
    "## Clasificaciones Únicas\n",
    "\n",
    "Exploramos las diferentes clasificaciones de emisiones presentes en el dataset."
   ]
  },
  {
   "cell_type": "code",
   "execution_count": null,
   "id": "7f2737e7",
   "metadata": {},
   "outputs": [],
   "source": [
    "print(\"Clasificaciones únicas:\")\n",
    "print(df['Clasificacion'].unique())"
   ]
  },
  {
   "cell_type": "markdown",
   "id": "1f8a2fef",
   "metadata": {},
   "source": [
    "## Emisiones Totales a lo largo del Tiempo\n",
    "\n",
    "Analizamos la suma total de emisiones por año."
   ]
  },
  {
   "cell_type": "code",
   "execution_count": null,
   "id": "29c817ed",
   "metadata": {},
   "outputs": [],
   "source": [
    "emisiones_por_anio = df.group_by('Anio').agg(pl.sum('Total_Emisiones').alias('Total_Emisiones_Anual')).sort('Anio')\n",
    "print(emisiones_por_anio)"
   ]
  },
  {
   "cell_type": "markdown",
   "id": "c8418b91",
   "metadata": {},
   "source": [
    "## Análisis de Correlación con SciPy\n",
    "\n",
    "Calculamos la correlación entre los diferentes tipos de gases de efecto invernadero (GEI)."
   ]
  },
  {
   "cell_type": "code",
   "execution_count": null,
   "id": "227f01ee",
   "metadata": {},
   "outputs": [],
   "source": [
    "ch4_emissions = df['CH4_eq'].to_numpy()\n",
    "co2_emissions = df['CO2_eq'].to_numpy()\n",
    "n2o_emissions = df['N2O_eq'].to_numpy()\n",
    "\n",
    "# Eliminar NaN si los hubiera (aunque ya se rellenaron con 0 en el preprocesamiento)\n",
    "ch4_emissions = ch4_emissions[~np.isnan(ch4_emissions)]\n",
    "co2_emissions = co2_emissions[~np.isnan(co2_emissions)]\n",
    "n2o_emissions = n2o_emissions[~np.isnan(n2o_emissions)]\n",
    "\n",
    "# Asegurarse de que todos los arrays tienen la misma longitud para la correlación\n",
    "min_len = min(len(ch4_emissions), len(co2_emissions), len(n2o_emissions))\n",
    "ch4_emissions = ch4_emissions[:min_len]\n",
    "co2_emissions = co2_emissions[:min_len]\n",
    "n2o_emissions = n2o_emissions[:min_len]\n",
    "\n",
    "if min_len > 1:\n",
    "    corr_ch4_co2, _ = stats.pearsonr(ch4_emissions, co2_emissions)\n",
    "    corr_ch4_n2o, _ = stats.pearsonr(ch4_emissions, n2o_emissions)\n",
    "    corr_co2_n2o, _ = stats.pearsonr(co2_emissions, n2o_emissions)\n",
    "    print(f\"Correlación Pearson entre CH4_eq y CO2_eq: {corr_ch4_co2:.2f}\")\n",
    "    print(f\"Correlación Pearson entre CH4_eq y N2O_eq: {corr_ch4_n2o:.2f}\")\n",
    "    print(f\"Correlación Pearson entre CO2_eq y N2O_eq: {corr_co2_n2o:.2f}\")\n",
    "else:\n",
    "    print(\"No hay suficientes datos para calcular la correlación.\")"
   ]
  }
 ],
 "metadata": {},
 "nbformat": 4,
 "nbformat_minor": 5
}
